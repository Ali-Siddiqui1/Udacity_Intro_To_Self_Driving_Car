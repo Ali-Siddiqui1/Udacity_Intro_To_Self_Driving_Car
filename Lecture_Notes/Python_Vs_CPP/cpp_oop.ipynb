/* In this lesson we are going to learn how to write CPP classes
The fundamentals of oop remain same whether you are using python or cpp both of them defined by the classes 
and the diff is mostly the syntax
*/