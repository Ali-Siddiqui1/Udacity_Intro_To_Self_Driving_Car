/* In this lesson we are going to learn how to write CPP classes
The fundamentals of oop remain same whether you are using python or cpp both of them defined by the classes 
and the diff is mostly the syntax
*/

// In this part i will use Python to demonstrate Gaussian distribution and then CPP will be demostrated
/*
    Guassian Distribution Formula ---  **Python**
    
 (1/(sigma * np.sqrt(2 * np.pi)) * np.exp( - (bins - mu)**2 / (2 * sigma**2) )
 
 The class contains two class variables called mu, which is the average and sigma2, which is the variance.

multiply, which multiplies two independent Gaussian distributions together
add, which adds two independent Gaussian distributions together


Python code for Guassian class

class gaussian():
    
    def __init__(self,mean, variance):
        self.mu = mean
        self.sigma2 = variance 
    
    def evaluate(self,x):
        coeficient = 1.0 / sqrt(2.0 * pi * self.sigma2)
        exponential = exp(-0.5 * (x-self.mu) ** 2 / self.sigma2)
        return coefficient * exponential 
        
    def multiply(self, other):
        # calculate new mean 
        denominator = self.sigma2 + other.sigma2
        numerator = self.mu * other.sigma2 + other.mu * self.sigma2
        new_mu = numerator / denominator 
        
        # calculate new variance 
        new_var = 1.0 / ((1.0 / self.sigma2) + (1.0 / other.sigma2))
        
        #generate new gaussian
        return Gaussian(new_mu, new_var)
        
    def add(self, other):
        new_mu = self.mu + other.mu
        new_sigma2 = self.sigma2 + other.sigma2
        
        return Gaussian(new_mu, new_sigma2)

*/

#include<math.h> /* sqrt, exp */

//class declaration
class gaussian
{
    private:
        float mu, sigma2;
    
    public:
    
    // constructor function
    gaussian():
    gaussian(float, float);
    
    
            


