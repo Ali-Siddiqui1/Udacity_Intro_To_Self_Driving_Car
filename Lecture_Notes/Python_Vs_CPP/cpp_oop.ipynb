/* In this lesson we are going to learn how to write CPP classes
The fundamentals of oop remain same whether you are using python or cpp both of them defined by the classes 
and the diff is mostly the syntax
*/

// In this part i will use Python to demonstrate Gaussian distribution and then CPP will be demostrated
/*
    Guassian Distribution Formula ---  **Python**
    
 (1/(sigma * np.sqrt(2 * np.pi)) * np.exp( - (bins - mu)**2 / (2 * sigma**2) )
 
 The class contains two class variables called mu, which is the average and sigma2, which is the variance.

multiply, which multiplies two independent Gaussian distributions together
add, which adds two independent Gaussian distributions together


Python code for Guassian class

class gaussian():
    
    def __init__(self,mean, variance):
        self.mu = mean
        self.sigma2 = variance 
    
    def evaluate(self,x):
        coeficient = 1.0 / sqrt(2.0 * pi * self.sigma2)
        exponential = exp(-0.5 * (x-self.mu) ** 2 / self.sigma2)
        return coefficient * exponential 
        
    def multiply(self, other):
        # calculate new mean 
        denominator = self.sigma2 + other.sigma2
        numerator = self.mu * other.sigma2 + other.mu * self.sigma2
        new_mu = numerator / denominator 
        
        # calculate new variance 
        new_var = 1.0 / ((1.0 / self.sigma2) + (1.0 / other.sigma2))
        
        #generate new gaussian
        return Gaussian(new_mu, new_var)
        
    def add(self, other):
        new_mu = self.mu + other.mu
        new_sigma2 = self.sigma2 + other.sigma2
        
        return Gaussian(new_mu, new_sigma2)

*/

#include<math.h> /* sqrt, exp */

//class declaration
class Gaussian
{
    //private variable declaration
    private:
        float mu, sigma2;
    
    // public variable and function declaration
    public:
    
    // constructor function
    Gaussian():
    Gaussian(float, float);
    
   // change value of average and standard deviation
    void setMu(float);
    void setSigma2(float);
    
    // output value of average and standard deviation
    float getMu();
    float getSigma2();
    
    // function to evaluate 
    float evaluate (float);
    Gaussian multiply (Gaussian);
    Guassian add (Gaussian);
};

// constructor function definition
Gaussian::Gaussian(){
    mu = 0;
    sigma2 = sigma;
}

// set function definitions
// Allow for changing the values of the mu and sigma2 variables
void Gaussian::setMu (float average){
    mu = average;
}
 
void Gaussian::setSigma2 (float sigma) {
    sigma2 = sigma;
}

// get function definitions
float Gaussian::getMu() {
    return mu;
}

float Gaussian::getSigma2(){
    return sigma2;
    
}

//evaluate function definition
float Gaussian::evaluate(float x){
    float coefficient;
    float exponential;
    
    coefficient = 1.0 / sqrt (2.0 * M_PI * sigma2);
    exponential = exp ( pow (-0.5 * (x - mu), 2) / sigma2);
    return coefficient * exponential;
}

