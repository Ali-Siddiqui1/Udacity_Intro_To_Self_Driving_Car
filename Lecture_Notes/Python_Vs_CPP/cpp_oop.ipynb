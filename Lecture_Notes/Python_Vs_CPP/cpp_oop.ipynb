/* In this lesson we are going to learn how to write CPP classes
The fundamentals of oop remain same whether you are using python or cpp both of them defined by the classes 
and the diff is mostly the syntax
*/

// In this part i will use Python to demonstrate Gaussian distribution and then CPP will be demostrated
/*
    Guassian Distribution Formula ---  **Python**
    
 (1/(sigma * np.sqrt(2 * np.pi)) * np.exp( - (bins - mu)**2 / (2 * sigma**2) ),
*/

